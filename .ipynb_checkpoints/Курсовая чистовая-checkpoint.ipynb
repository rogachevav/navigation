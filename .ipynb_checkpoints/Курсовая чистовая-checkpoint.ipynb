{
 "cells": [
  {
   "cell_type": "code",
   "execution_count": 1,
   "metadata": {
    "collapsed": false
   },
   "outputs": [],
   "source": [
    "import math\n",
    "from math import *\n",
    "import numpy as np\n",
    "import matplotlib.pyplot as plt\n",
    "import scipy\n",
    "import filterpy\n",
    "from filterpy.kalman import KalmanFilter\n",
    "from filterpy.common import Q_continuous_white_noise\n",
    "from filterpy.common import Q_discrete_white_noise\n",
    "import code.book_plots as bp\n",
    "from scipy import stats\n",
    "from filterpy.common import van_loan_discretization\n",
    "from scipy.linalg import expm\n",
    "%matplotlib inline"
   ]
  },
  {
   "cell_type": "markdown",
   "metadata": {},
   "source": [
    "Функция выделения полезной информации из навигационного фрейма:"
   ]
  },
  {
   "cell_type": "code",
   "execution_count": 3,
   "metadata": {
    "collapsed": true
   },
   "outputs": [],
   "source": [
    "def CNFparser():\n",
    "  global CNFnav\n",
    "  global CNFalign   #\n",
    "  dt = np.dtype([('Time', np.float64),('FlagAlignment',np.float64),('OmX',np.float64),('OmY',np.float64),('OmZ',np.float64),('AccX',np.float64),('AccY',np.float64),('AccZ',np.float64)])\n",
    "  CNFnav = np.loadtxt('topo.xch', usecols=(1,3,12,13,14,15,16,17), dtype = dt)\n",
    "  #CNFnames = ['log_vers'0,1'Time',2'FrameType','3FlagValid','4FlagAlignment','5FlagSettings','6Latitude', '7Longitude','8H','9Velocity1','10Velocity2','11Velocity3','12OmX','13OmY','14OmZ','15AccX','16AccY','17AccZ','Pitch', 'Roll','YawGyro','Yaw','Azimuth','VelocityModule','df1','df2','df3','df4','df5','df6','df7','df8', 'df9','df10','VelMod2','VelMod3','if5','outTime','outFlagValid','outFlagAlignment','outFlagErrors', 'outLatitude','outLongitude','outH','outVel1','outVel2','ouVel3','outPitch','outRoll','outYawGyro', 'outYaw','outOffsetX','outOffsetY','outOffsetZ','odf4','odf5','odf6','odf7','odf8','odf9','odf10', 'oif2','oif3','oif4','oif5']\n",
    "  #CNFalign = CNF[CNF.FlagAlignment == 1]\n",
    "  #CNFalign = CNFalign.loc[:,['Time','OmX','OmY','OmZ','AccX','AccY','AccZ']]\n",
    "  #CNFnav = CNF[CNF.FlagAlignment == 0]\n",
    "  #CNFnav = CNFnav.loc[:,['Time','OmX','OmY','OmZ','AccX','AccY','AccZ']]\n",
    "  #CNF = []\n",
    "  #CNFalign['Invariant'] = CNFalign.AccX*CNFalign.OmX +  CNFalign.AccY*CNFalign.OmY +  CNFalign.AccZ*CNFalign.OmZ\n",
    "  #CNFalign['g\\''] = (CNFalign.AccX**2 + CNFalign.AccY**2 + CNFalign.AccZ**2)**(0.5)\n",
    "  #CNFalign['W_Std500'] = (CNFalign.Invariant.rolling(window = 500, center = False).std()).dropna()"
   ]
  },
  {
   "cell_type": "markdown",
   "metadata": {},
   "source": [
    "Как можно увидеть, переписав этот модуль под нампи он стал проще и короче. Нужно бы завести кладбище погибших реализаций (к сожалению, гит с ноутбуком работает плохо)"
   ]
  },
  {
   "cell_type": "code",
   "execution_count": 4,
   "metadata": {
    "collapsed": false
   },
   "outputs": [],
   "source": [
    "CNFparser()"
   ]
  },
  {
   "cell_type": "code",
   "execution_count": null,
   "metadata": {
    "collapsed": true
   },
   "outputs": [],
   "source": [
    "def SearchMinimalVibrations():\n",
    "  global CNFalign\n",
    "  global CNFvibrations\n",
    "  level = 5e-7\n",
    "  CNFvibrations = pd.DataFrame(columns = CNFalign.columns)\n",
    "  while (CNFvibrations.Time.count() < 1000) : #время - 10 секунд\n",
    "    CNFvibrations = pd.DataFrame(columns = CNFalign.columns)\n",
    "    for i, mean in enumerate(CNFalign.W_Std500):\n",
    "      if mean < level:\n",
    "        CNFvibrations = CNFvibrations.append(CNFalign.loc[i:i,])  \n",
    "    level = level*5.0\n",
    "  plt.plot(CNFvibrations.Time, CNFvibrations.Invariant, linestyle = 'None', marker = '+')\n",
    "  plt.xlabel('Time, s')\n",
    "  plt.ylabel('(g,U), m/s/s/s')\n",
    "  plt.title('Minimal Vibrations Interval')\n",
    "  #plt.legend()\n",
    "  plt.show()\n",
    "  CNFvibrations = CNFvibrations.values\n",
    "  # TODO ищем не просто объединение интервалов, а непрерывный интервал длиной х секунд (пусть 10)\n",
    "# TODO метод append это bottleneck моего цикла. Надо переписать. Либо сохранять номера внутри ndarray и вызвать .append от .loc в конце итерации, будет сильно быстрее"
   ]
  },
  {
   "cell_type": "code",
   "execution_count": 7,
   "metadata": {
    "collapsed": true
   },
   "outputs": [
    {
     "data": {
      "text/plain": [
       "array([ (1116.194656, 0.0, 3.70579400054274e-05, 6.0880599415661e-05, -4.40381709024463e-05, 0.001397646100692, -7.83463381921316, -5.89322238232564),\n",
       "       (1116.205562, 0.0, -5.10758328042611e-05, -0.000225483701539485, -0.000196722800166327, 0.009990581386428, -7.84084906955564, -5.90685566595306),\n",
       "       (1116.216473, 0.0, -0.000155322726006651, -0.000461318466961722, -0.00022225760084263, 0.00659999547549, -7.83263412997254, -5.9167619645238),\n",
       "       (1116.227406, 0.0, 0.000136614804180974, -0.000162597961824899, -0.000152370124387515, 0.002355292503018, -7.84667248889827, -5.90437562756962),\n",
       "       (1116.238523, 0.0, 5.87111105840514e-05, 0.000321435339768418, 9.47108970539263e-05, 0.009977640218829, -7.8488883607595, -5.89854268813146),\n",
       "       (1116.249207, 0.0, -6.83819653500552e-05, 0.000370247264554701, 3.76357502050153e-05, 0.003584703424923, -7.83701182803985, -5.89780837509055),\n",
       "       (1116.260117, 0.0, 0.000166686166764855, 2.93658471702933e-05, -0.000100649048648152, 0.003895291447299, -7.84773989058752, -5.89898604694861),\n",
       "       (1116.271035, 0.0, -0.000263454365032548, -0.000351497311117961, -0.000121024471709801, 0.003468232916532, -7.83899800586669, -5.91286871991068),\n",
       "       (1116.281949, 0.0, -2.11237714356893e-05, -0.000431596991134639, -0.00017635486531602, -0.002989409715369, -7.83984922493533, -5.90804719277416),\n",
       "       (1116.292852, 0.0, 9.33159193496828e-05, -0.000120437049577315, -8.66086523818558e-05, 0.001216469754306, -7.85106369837937, -5.89575784056122)], \n",
       "      dtype=[('Time', '<f8'), ('FlagAlignment', '<f8'), ('OmX', '<f8'), ('OmY', '<f8'), ('OmZ', '<f8'), ('AccX', '<f8'), ('AccY', '<f8'), ('AccZ', '<f8')])"
      ]
     },
     "execution_count": 7,
     "metadata": {},
     "output_type": "execute_result"
    }
   ],
   "source": [
    "CNFnav[:][0:10]"
   ]
  },
  {
   "cell_type": "code",
   "execution_count": 6,
   "metadata": {
    "collapsed": true
   },
   "outputs": [],
   "source": [
    "def InitialAlgebraicAlignment():\n",
    "  global g\n",
    "  global L\n",
    "  #global CNFalign\n",
    "  #global CNFvibrations\n",
    "  global theta, gamma, phi, psi, psi_al, theta_al, gamma_al, L_al\n",
    "  DELIMITER0 = 10000\n",
    "  DELIMITER = 70000\n",
    "  u = 0.000072921158553\n",
    "  Pi = 3.14159265358979323846\n",
    "  om_x = CNFnav['OmX'][DELIMITER0:DELIMITER].mean()\n",
    "  om_y = CNFnav['OmY'][DELIMITER0:DELIMITER].mean()\n",
    "  om_z = CNFnav['OmZ'][DELIMITER0:DELIMITER].mean()\n",
    "  f_x = CNFnav['AccX'][DELIMITER0:DELIMITER].mean()\n",
    "  f_y = CNFnav['AccY'][DELIMITER0:DELIMITER].mean()\n",
    "  f_z = CNFnav['AccZ'][DELIMITER0:DELIMITER].mean()\n",
    "  theta = math.atan2(f_x, math.sqrt(f_y*f_y+f_z*f_z))\n",
    "  gamma = -math.atan2(f_z, f_y)\n",
    "  #printf(\"\\ntheta = %.15lf\\ngamma = %.15lf\\n\",theta,gamma)\n",
    "  phi = 49.99453181*math.pi/180\n",
    "  g = 9.78030*(1+0.005302*sin(phi)*sin(phi)-0.000007*sin(2*phi)*sin(2*phi))\n",
    "  om = math.sqrt(om_x*om_x+om_y*om_y+om_z*om_z)\n",
    "  l13 = sin(theta)\n",
    "  l23 = cos(theta)*cos(gamma)\n",
    "  l33 = -cos(theta)*sin(gamma)\n",
    "  l12 = (om_x - u*l13*sin(phi))/(u*cos(phi))\n",
    "  l22 = (om_y - u*l23*sin(phi))/(u*cos(phi))\n",
    "  l32 = (om_z - u*l33*sin(phi))/(u*cos(phi))\n",
    "  l12 = l12/(sqrt(l12*l12+l22*l22+l32*l32)) #нормировка\n",
    "  l22 = l22/(sqrt(l12*l12+l22*l22+l32*l32))\n",
    "  l32 = l32/(sqrt(l12*l12+l22*l22+l32*l32))\n",
    "  #printf(\"Второй столбец с нормировкой\\n      %.5lf\\nl2 =  %.5lf\\n      %.5lf\\n \\n\",l12,l22,l32)\n",
    "  #теперь нужно векторно умножить второй на третий\n",
    "  l11 = l22*l33 - l32*l23\n",
    "  l21 =-l12*l33 + l13*l32\n",
    "  l31 = l12*l23 - l22*l13\n",
    "  L = np.matrix([[l11, l12, l13], [l21, l22, l23], [l31, l32, l33]])\n",
    "  psi = math.atan2(L.item(0,0),L.item(0,1))\n",
    "  theta = math.asin(L.item(0,2))\n",
    "  gamma = -math.atan2(L.item(2,2),L.item(1,2))\n",
    "  psi_al = psi\n",
    "  theta_al = theta\n",
    "  gamma_al = gamma\n",
    "  L_al = L"
   ]
  },
  {
   "cell_type": "code",
   "execution_count": 162,
   "metadata": {
    "collapsed": false
   },
   "outputs": [
    {
     "data": {
      "text/plain": [
       "9.816388674821086"
      ]
     },
     "execution_count": 162,
     "metadata": {},
     "output_type": "execute_result"
    }
   ],
   "source": [
    "(CNFnav['AccZ'][:500].mean()**2 + CNFnav['AccX'][:500].mean()**2 + CNFnav['AccY'][:500].mean()**2)**0.5"
   ]
  },
  {
   "cell_type": "code",
   "execution_count": 135,
   "metadata": {
    "collapsed": false
   },
   "outputs": [
    {
     "data": {
      "text/plain": [
       "[<matplotlib.lines.Line2D at 0x7f8c31c40d50>]"
      ]
     },
     "execution_count": 135,
     "metadata": {},
     "output_type": "execute_result"
    },
    {
     "data": {
      "image/png": "[encoded data removed]",
      "text/plain": [
       "<matplotlib.figure.Figure at 0x7f8c31e7ef50>"
      ]
     },
     "metadata": {},
     "output_type": "display_data"
    }
   ],
   "source": [
    "plt.plot(CNFnav['Time'][10000:50000], CNFnav['OmX'][10000:50000])"
   ]
  },
  {
   "cell_type": "markdown",
   "metadata": {},
   "source": [
    "Van-Loan dicscretisation"
   ]
  },
  {
   "cell_type": "code",
   "execution_count": 163,
   "metadata": {
    "collapsed": false
   },
   "outputs": [
    {
     "name": "stdout",
     "output_type": "stream",
     "text": [
      "[[ 0.995  0.1  ]\n",
      " [-0.1    0.995]]\n",
      "[[ 0.001  0.02 ]\n",
      " [ 0.02   0.399]]\n"
     ]
    }
   ],
   "source": [
    "A = np.array([[0., 1.], [-1., 0.]])\n",
    "G = np.array([[0.], [2.]]) # white noise scaling\n",
    "F, Q = van_loan_discretization(A, G, dt=0.1)\n",
    "\n",
    "print F\n",
    "print Q"
   ]
  },
  {
   "cell_type": "markdown",
   "metadata": {},
   "source": [
    "# Займёмся дизайном"
   ]
  },
  {
   "cell_type": "markdown",
   "metadata": {},
   "source": [
    "Сформулируем то, что у нас есть:\n",
    "dim x = 9\n",
    "dim z = 3\n"
   ]
  },
  {
   "cell_type": "code",
   "execution_count": 22,
   "metadata": {
    "collapsed": false
   },
   "outputs": [],
   "source": [
    "def StateUpdate(i):\n",
    "  global A\n",
    "  global CNFalign\n",
    "  A[0,1] = CNFnav['OmZ'][i]\n",
    "  A[0,2] = -CNFnav['OmY'][i]\n",
    "  A[1,0] = -A[0,1]\n",
    "  A[1,2] = CNFnav['OmX'][i]\n",
    "  A[2,0] = -A[0,2]\n",
    "  A[2,1] = -A[1,2]\n",
    "  A[0,6] = 1\n",
    "  A[1,7] = 1\n",
    "  A[2,8] = 1\n",
    "  #потом отсюда процедурой Ван-Лона нужно дискретизировать (вместе с G)\n",
    "\n",
    "def MeasurmentMatrixUpdate():\n",
    "  global H\n",
    "  #global CNFalign\n",
    "  global theta, gamma\n",
    "  gy1 = -g*sin(theta)\n",
    "  gy2 = -g*cos(theta)*cos(gamma)\n",
    "  gy3 = -g*cos(theta)*sin(gamma)\n",
    "  H[0,1] = gy3\n",
    "  H[0,2] = -gy2\n",
    "  H[0,3] = 1\n",
    "  H[1,0] = -gy3\n",
    "  H[1,2] = gy1\n",
    "  H[1,4] = 1\n",
    "  H[2,0] = gy2\n",
    "  H[2,1] = -gy1\n",
    "  H[2,5] = 1\n",
    "\n",
    "def LUpdate():\n",
    "  global theta, gamma, psi, phi, L, KF\n",
    "  theta = (theta - (-KF.x.item(0)*cos(psi) + KF.x.item(1)*sin(psi))) \n",
    "  gamma = (gamma - (-KF.x.item(0)*sin(psi) + KF.x.item(1)*cos(psi))/cos(theta))\n",
    "  psi = (psi - KF.x.item(2) - gamma*sin(theta))\n",
    "  #print theta\n",
    "  #print gamma\n",
    "  #print psi\n",
    "  l11 = sin(psi)*cos(theta)\n",
    "  l21 = cos(psi)*sin(gamma) - sin(psi)*sin(theta)*cos(gamma)\n",
    "  l31 = cos(psi)*cos(gamma) + sin(psi)*sin(theta)*sin(gamma)\n",
    "\n",
    "  l12 = cos(psi)*cos(theta)\n",
    "  l22 = -sin(psi)*sin(gamma) - cos(psi)*sin(theta)*cos(gamma)\n",
    "  l32 = -sin(psi)*cos(gamma) + cos(psi)*sin(theta)*sin(gamma)\n",
    "\n",
    "  l13 = sin(theta)\n",
    "  l23 = cos(theta)*cos(gamma)\n",
    "  l33 = - cos(theta)*sin(gamma)\n",
    "    \n",
    "def DegreesUpdate():\n",
    "  global theta, gamma, psi, phi, L, KF\n",
    "  theta = (theta - (-KF.x.item(0)*cos(psi) + KF.x.item(1)*sin(psi))) \n",
    "  gamma = (gamma - (-KF.x.item(0)*sin(psi) + KF.x.item(1)*cos(psi))/cos(theta))\n",
    "  psi = (psi - KF.x.item(2) - gamma*sin(theta))"
   ]
  },
  {
   "cell_type": "markdown",
   "metadata": {
    "collapsed": true
   },
   "source": [
    "Заведём фильтр:"
   ]
  },
  {
   "cell_type": "code",
   "execution_count": 165,
   "metadata": {
    "collapsed": false
   },
   "outputs": [
    {
     "data": {
      "text/plain": [
       "DescribeResult(nobs=1578545, minmax=(-37.335307346617803, 32.981432684280598), mean=-0.022600114100544303, variance=0.24718785886333769, skewness=-0.12559707035458653, kurtosis=375.02626618629097)"
      ]
     },
     "execution_count": 165,
     "metadata": {},
     "output_type": "execute_result"
    }
   ],
   "source": [
    "scipy.stats.describe(CNFnav['AccX'])"
   ]
  },
  {
   "cell_type": "code",
   "execution_count": 166,
   "metadata": {
    "collapsed": false
   },
   "outputs": [
    {
     "data": {
      "text/plain": [
       "0.0026788216929929999"
      ]
     },
     "execution_count": 166,
     "metadata": {},
     "output_type": "execute_result"
    }
   ],
   "source": [
    "CNFnav['AccX'][75000]"
   ]
  },
  {
   "cell_type": "markdown",
   "metadata": {},
   "source": [
    "Отрежем небольшой кусочек, чтобы можно было увидеть всё глазом:"
   ]
  },
  {
   "cell_type": "code",
   "execution_count": 8,
   "metadata": {
    "collapsed": false
   },
   "outputs": [],
   "source": [
    "InitialAlgebraicAlignment()\n",
    "#CNFalign = CNFnav[:][1000:2000]\n",
    "CNFnav = CNFnav[:][1000:2000]"
   ]
  },
  {
   "cell_type": "code",
   "execution_count": 10,
   "metadata": {
    "collapsed": false
   },
   "outputs": [
    {
     "data": {
      "text/plain": [
       "matrix([[ -9.953e-01,  -8.530e-02,   3.504e-04],\n",
       "        [ -5.155e-02,   6.227e-01,  -7.991e-01],\n",
       "        [  6.794e-02,  -7.770e-01,  -6.012e-01]])"
      ]
     },
     "execution_count": 10,
     "metadata": {},
     "output_type": "execute_result"
    }
   ],
   "source": [
    "L_al"
   ]
  },
  {
   "cell_type": "markdown",
   "metadata": {},
   "source": [
    "Следующую кучу ячеек можно не выполнять: это просто разбитый на куски процесс первичного определения фильтра"
   ]
  },
  {
   "cell_type": "code",
   "execution_count": 17,
   "metadata": {
    "collapsed": false
   },
   "outputs": [],
   "source": [
    "KF = KalmanFilter(dim_x=9, dim_z=3)"
   ]
  },
  {
   "cell_type": "code",
   "execution_count": 27,
   "metadata": {
    "collapsed": false
   },
   "outputs": [
    {
     "name": "stdout",
     "output_type": "stream",
     "text": [
      "[[  0.000e+00  -5.898e+00  -7.840e+00   1.000e+00   0.000e+00   0.000e+00\n",
      "    0.000e+00   0.000e+00   0.000e+00]\n",
      " [  5.898e+00   0.000e+00  -3.437e-03   0.000e+00   1.000e+00   0.000e+00\n",
      "    0.000e+00   0.000e+00   0.000e+00]\n",
      " [  7.840e+00   3.437e-03   0.000e+00   0.000e+00   0.000e+00   1.000e+00\n",
      "    0.000e+00   0.000e+00   0.000e+00]]\n"
     ]
    }
   ],
   "source": [
    "KF.x = np.array([[0],[0],[0],[6.7e-5],[-5e-3],[-3.9e-3],[8.4e-8],[-9.8e-7],[-9e-7]])       # initial state (location and velocity)\n",
    "\n",
    "KF.F = F1    # state transition matrix\n",
    "A = np.zeros((9,9))\n",
    "H = np.zeros((3,9))\n",
    "MeasurmentMatrixUpdate()\n",
    "print H\n",
    "KF.H = H                    # Measurement function\n",
    "KF.P *= 1000.                 # covariance matrix\n",
    "KF.R = 5                      # state uncertainty\n",
    "KF.Q = Q #_discrete_white_noise(3, dt, .1) # process uncertainty\n",
    "KF.predict()"
   ]
  },
  {
   "cell_type": "code",
   "execution_count": 8,
   "metadata": {
    "collapsed": false
   },
   "outputs": [
    {
     "name": "stdout",
     "output_type": "stream",
     "text": [
      "at the beginning 0.000350376314134 2.49657712547 -1.65628891299\n"
     ]
    }
   ],
   "source": [
    "print \"at the beginning\", theta, gamma, psi"
   ]
  },
  {
   "cell_type": "code",
   "execution_count": 33,
   "metadata": {
    "collapsed": false
   },
   "outputs": [],
   "source": [
    "z = CNFnav[0]\n",
    "i = 0\n",
    "z = np.transpose(np.dot(np.transpose(L),np.array([CNFnav[i]['AccX'], CNFnav[i]['AccY'] , CNFnav[i]['AccZ']])) - np.array([0,0,g]))"
   ]
  },
  {
   "cell_type": "markdown",
   "metadata": {},
   "source": [
    "# А вот отсюда начинается фильтр"
   ]
  },
  {
   "cell_type": "code",
   "execution_count": 38,
   "metadata": {
    "collapsed": false
   },
   "outputs": [],
   "source": [
    "thetas, gammas, psis, k1, k2, k3 = [], [], [], [], [], []\n",
    "L = L_al\n",
    "psi = psi_al\n",
    "theta = theta_al\n",
    "gamma = gamma_al\n",
    "KF = KalmanFilter(dim_x=9, dim_z=3)\n",
    "KF.x = np.array([[0],[0],[0],[6.7e-5],[-5e-3],[-3.9e-3],[8.4e-8],[-9.8e-7],[-9e-7]]) #начальное положение\n",
    "A = np.zeros((9,9))   #инициализировали A нулями явно, на всякий случай\n",
    "StateUpdate(0) #возвращает глобальную матрицу А непрер. процесса: x' = Ax + Bu + Gq - G интенсивность (scale) шума\n",
    "dt = 0.01 #нужно считать честно: print CNFnav[0]['Time'] - CNFnav[1]['Time']\n",
    "G = 0.01*np.array([[1.],[1.],[1.],[1.],[1.],[1.],[1.],[1.],[1.]]) # scale шума\n",
    "F1, Q = van_loan_discretization(A, G, dt)  #дискретизировали A (т.е. получили F) и сразу красивая дискретная Q\n",
    "KF.Q = Q #_discrete_white_noise(3, dt, .1) #неопределённость процесса по сути\n",
    "KF.F = F1    # state transition matrix\n",
    "H = np.zeros((3,9))  #инициализировали H нулями явно\n",
    "MeasurmentMatrixUpdate()  #вызвали процедуру обновления матрицы измерений\n",
    "KF.H = H                    # Measurement function\n",
    "KF.P *= 1000.                 # covariance matrix\n",
    "#KF.R = 5                      # state uncertainty\n",
    "KF.predict()\n",
    "for i, Measurment in enumerate(CNFnav):\n",
    "  StateUpdate(i)\n",
    "  z = np.transpose(np.dot(np.transpose(L),np.array([CNFnav[i]['AccX'],CNFnav[i]['AccY'] , CNFnav[i]['AccZ']])) - np.array([0,0,g]))\n",
    "  KF.update(z)\n",
    "  KF.predict()\n",
    "  MeasurmentMatrixUpdate()\n",
    "  #z = CNFnav[i]\n",
    "  KF.H = H\n",
    "  F1, Q = van_loan_discretization(A, G, dt) \n",
    "  KF.F = F1\n",
    "  #LUpdate()\n",
    "  #DegreesUpdate()\n",
    "  #thetas.append(theta)\n",
    "  #gammas.append(gamma)\n",
    "  #psis.append(psi)\n",
    "  k1.append(KF.x.item(0))\n",
    "  k2.append(KF.x.item(1))\n",
    "  k3.append(KF.x.item(2))\n",
    "  #print L\n",
    "LUpdate() #в конце выставки, продравшись сквозь шумы, корректируем углы"
   ]
  },
  {
   "cell_type": "code",
   "execution_count": 2,
   "metadata": {
    "collapsed": false
   },
   "outputs": [
    {
     "ename": "NameError",
     "evalue": "name 'k3' is not defined",
     "output_type": "error",
     "traceback": [
      "\u001b[0;31m---------------------------------------------------------------------------\u001b[0m",
      "\u001b[0;31mNameError\u001b[0m                                 Traceback (most recent call last)",
      "\u001b[0;32m<ipython-input-2-f0d817901b2e>\u001b[0m in \u001b[0;36m<module>\u001b[0;34m()\u001b[0m\n\u001b[1;32m      1\u001b[0m \u001b[0mplt\u001b[0m\u001b[0;34m.\u001b[0m\u001b[0mfigure\u001b[0m\u001b[0;34m(\u001b[0m\u001b[0;34m)\u001b[0m\u001b[0;34m\u001b[0m\u001b[0m\n\u001b[0;32m----> 2\u001b[0;31m \u001b[0mplt\u001b[0m\u001b[0;34m.\u001b[0m\u001b[0mplot\u001b[0m\u001b[0;34m(\u001b[0m\u001b[0mk3\u001b[0m\u001b[0;34m)\u001b[0m\u001b[0;34m\u001b[0m\u001b[0m\n\u001b[0m\u001b[1;32m      3\u001b[0m \u001b[0mplt\u001b[0m\u001b[0;34m.\u001b[0m\u001b[0mplot\u001b[0m\u001b[0;34m(\u001b[0m\u001b[0;36m0.\u001b[0m\u001b[0;34m)\u001b[0m\u001b[0;34m\u001b[0m\u001b[0m\n\u001b[1;32m      4\u001b[0m \u001b[0mplt\u001b[0m\u001b[0;34m.\u001b[0m\u001b[0mplot\u001b[0m\u001b[0;34m(\u001b[0m\u001b[0mk2\u001b[0m\u001b[0;34m)\u001b[0m\u001b[0;34m\u001b[0m\u001b[0m\n",
      "\u001b[0;31mNameError\u001b[0m: name 'k3' is not defined"
     ]
    },
    {
     "data": {
      "text/plain": [
       "<matplotlib.figure.Figure at 0x7f560850e110>"
      ]
     },
     "metadata": {},
     "output_type": "display_data"
    }
   ],
   "source": [
    "plt.figure()\n",
    "plt.plot(k3)\n",
    "plt.plot(0.)\n",
    "plt.plot(k2)"
   ]
  },
  {
   "cell_type": "code",
   "execution_count": 195,
   "metadata": {
    "collapsed": false
   },
   "outputs": [
    {
     "name": "stdout",
     "output_type": "stream",
     "text": [
      "[[ -2.485e-04  -2.974e-01   9.808e+00]]\n",
      "[[ -2.485e-04  -2.974e-01  -2.350e-03]]\n"
     ]
    }
   ],
   "source": [
    "i = 5\n",
    "z = np.dot(np.transpose(L),np.array([CNFnav[i]['AccX'], CNFnav[i]['AccY'] , CNFnav[i]['AccZ']])) - np.array([0,0,g])\n",
    "x = np.dot(np.transpose(L),np.array([CNFnav[i]['AccX'], CNFnav[i]['AccY'] , CNFnav[i]['AccZ']]))\n",
    "print x\n",
    "print z"
   ]
  },
  {
   "cell_type": "code",
   "execution_count": 23,
   "metadata": {
    "collapsed": false
   },
   "outputs": [
    {
     "ename": "SyntaxError",
     "evalue": "invalid syntax (<ipython-input-23-e0ffc210a20e>, line 10)",
     "output_type": "error",
     "traceback": [
      "\u001b[0;36m  File \u001b[0;32m\"<ipython-input-23-e0ffc210a20e>\"\u001b[0;36m, line \u001b[0;32m10\u001b[0m\n\u001b[0;31m    KF.predict()\u001b[0m\n\u001b[0m     ^\u001b[0m\n\u001b[0;31mSyntaxError\u001b[0m\u001b[0;31m:\u001b[0m invalid syntax\n"
     ]
    }
   ],
   "source": [
    "i = 1\n",
    "MeasurmentMatrixUpdate()\n",
    "z = CNFnav[i]\n",
    "KF.H = H\n",
    "F, Q = van_loan_discretization(A, G, dt) \n",
    "    #z строим как корректирующее: f' - f_ист(в осях ). Т.е. нужно g по формуле гельмерта перепроектировать\n",
    "    #в оси приборного (или при)\n",
    "z = np.transpose(np.dot(np.transpose(L),np.array([CNFnav[i]['AccX'], CNFnav[i]['AccY'] , CNFnav[i]['AccZ']])) - np.array([0,0,g])\n",
    "#KF.F = F\n",
    "KF.predict()\n",
    "KF.update(z)\n",
    "LUpdate()\n",
    "#print L\n",
    "print theta\n",
    "print gamma\n",
    "print psi"
   ]
  }
 ],
 "metadata": {
  "kernelspec": {
   "display_name": "Python 2",
   "language": "python",
   "name": "python2"
  },
  "language_info": {
   "codemirror_mode": {
    "name": "ipython",
    "version": 2
   },
   "file_extension": ".py",
   "mimetype": "text/x-python",
   "name": "python",
   "nbconvert_exporter": "python",
   "pygments_lexer": "ipython2",
   "version": "2.7.13"
  }
 },
 "nbformat": 4,
 "nbformat_minor": 1
}
