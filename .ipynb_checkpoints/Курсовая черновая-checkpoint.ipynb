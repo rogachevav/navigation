{
 "cells": [
  {
   "cell_type": "code",
   "execution_count": 2,
   "metadata": {
    "collapsed": false
   },
   "outputs": [],
   "source": [
    "import numpy as np\n",
    "import pandas as pd\n",
    "import matplotlib.pyplot as plt\n",
    "import scipy\n",
    "import filterpy\n",
    "from filterpy.common import Q_continuous_white_noise\n",
    "from filterpy.common import Q_discrete_white_noise\n",
    "import code.book_plots as bp\n",
    "from scipy import stats\n"
   ]
  },
  {
   "cell_type": "markdown",
   "metadata": {},
   "source": [
    "Парсер датафрейма в структуру данных пандас.датафрэйм: нужно переписать в нампи аррэй, будет быстрее"
   ]
  },
  {
   "cell_type": "code",
   "execution_count": 3,
   "metadata": {
    "collapsed": true
   },
   "outputs": [],
   "source": [
    "def CNFparser():\n",
    "  global CNFnav\n",
    "  global CNFalign\n",
    "  CNFnames = ['log_vers','Time','FrameType','FlagValid','FlagAlignment','FlagSettings','Latitude', 'Longitude','H','Velocity1','Velocity2','Velocity3','OmX','OmY','OmZ','AccX','AccY','AccZ','Pitch', 'Roll','YawGyro','Yaw','Azimuth','VelocityModule','df1','df2','df3','df4','df5','df6','df7','df8', 'df9','df10','VelMod2','VelMod3','if5','outTime','outFlagValid','outFlagAlignment','outFlagErrors', 'outLatitude','outLongitude','outH','outVel1','outVel2','ouVel3','outPitch','outRoll','outYawGyro', 'outYaw','outOffsetX','outOffsetY','outOffsetZ','odf4','odf5','odf6','odf7','odf8','odf9','odf10', 'oif2','oif3','oif4','oif5']\n",
    "  CNF = pd.read_table('topo.xch', sep = '\\s+' ,header = None, names = CNFnames)\n",
    "  CNFalign = CNF[CNF.FlagAlignment == 1]\n",
    "  CNFalign = CNFalign.loc[:,['Time','OmX','OmY','OmZ','AccX','AccY','AccZ']]\n",
    "  CNFnav = CNF[CNF.FlagAlignment == 0]\n",
    "  CNFnav = CNFnav.loc[:,['Time','OmX','OmY','OmZ','AccX','AccY','AccZ']]\n",
    "  CNF = []\n",
    "  CNFalign['Invariant'] = CNFalign.AccX*CNFalign.OmX +  CNFalign.AccY*CNFalign.OmY +  CNFalign.AccZ*CNFalign.OmZ\n",
    "  CNFalign['g\\''] = (CNFalign.AccX**2 + CNFalign.AccY**2 + CNFalign.AccZ**2)**(0.5)\n",
    "  CNFalign['W_Std500'] = (CNFalign.Invariant.rolling(window = 500, center = False).std()).dropna()"
   ]
  },
  {
   "cell_type": "markdown",
   "metadata": {},
   "source": [
    "Тут нампи реализация:"
   ]
  },
  {
   "cell_type": "code",
   "execution_count": 13,
   "metadata": {
    "collapsed": false
   },
   "outputs": [],
   "source": [
    "dt = np.dtype([('Time', np.float64),('OmX',np.float64),('OmY',np.float64),('OmZ',np.float64),('AccX',np.float64),('AccY',np.float64),('AccZ',np.float64)])\n",
    "z = np.loadtxt('topo.xch', usecols=(1,12,13,14,15,16,17), dtype = dt)"
   ]
  },
  {
   "cell_type": "code",
   "execution_count": 14,
   "metadata": {
    "collapsed": false
   },
   "outputs": [
    {
     "data": {
      "text/plain": [
       "array([ (1116.194656, 3.70579400054274e-05, 6.0880599415661e-05, -4.40381709024463e-05, 0.001397646100692, -7.83463381921316, -5.89322238232564),\n",
       "       (1116.205562, -5.10758328042611e-05, -0.000225483701539485, -0.000196722800166327, 0.009990581386428, -7.84084906955564, -5.90685566595306),\n",
       "       (1116.216473, -0.000155322726006651, -0.000461318466961722, -0.00022225760084263, 0.00659999547549, -7.83263412997254, -5.9167619645238),\n",
       "       ...,\n",
       "       (6036.885742, 0.109881616358986, 0.00225408792524544, -0.00580141685512009, -0.075007007403804, 7.32648305806027, -3.61974764278536),\n",
       "       (6036.888395, 0.109881616358986, 0.00225408792524544, -0.00580141685512009, -0.075007007403804, 7.32648305806027, -3.61974764278536),\n",
       "       (6036.89002, 0.109881616358986, 0.00225408792524544, -0.00580141685512009, -0.075007007403804, 7.32648305806027, -3.61974764278536)], \n",
       "      dtype=[('Time', '<f8'), ('OmX', '<f8'), ('OmY', '<f8'), ('OmZ', '<f8'), ('AccX', '<f8'), ('AccY', '<f8'), ('AccZ', '<f8')])"
      ]
     },
     "execution_count": 14,
     "metadata": {},
     "output_type": "execute_result"
    }
   ],
   "source": [
    "z"
   ]
  },
  {
   "cell_type": "code",
   "execution_count": 24,
   "metadata": {
    "collapsed": false
   },
   "outputs": [
    {
     "data": {
      "text/plain": [
       "DescribeResult(nobs=1578545, minmax=(-0.097867506772486304, 0.44253323633436098), mean=0.10275800813909251, variance=0.0028050435222365345, skewness=0.5269547105459658, kurtosis=4.297226701685216)"
      ]
     },
     "execution_count": 24,
     "metadata": {},
     "output_type": "execute_result"
    }
   ],
   "source": [
    "scipy.stats.describe(z['OmX'])"
   ]
  },
  {
   "cell_type": "code",
   "execution_count": 16,
   "metadata": {
    "collapsed": true
   },
   "outputs": [],
   "source": [
    "def CNFparserarray():\n",
    "  global CNFnav\n",
    "  global CNFalign\n",
    "  dt = np.dtype([('Time', np.float64),('OmX',np.float64),('OmY',np.float64),('OmZ',np.float64),('AccX',np.float64),('AccY',np.float64),('AccZ',np.float64)])\n",
    "  numpy.loadtxt('topo.xch', usecols=(1,12,13,14,15,16,17), )\n",
    "  #dt = np.dtype([('log_vers','Time','FrameType','FlagValid','FlagAlignment','FlagSettings','Latitude', 'Longitude','H','Velocity1','Velocity2','Velocity3','OmX','OmY','OmZ','AccX','AccY','AccZ','Pitch', 'Roll','YawGyro','Yaw','Azimuth','VelocityModule','df1','df2','df3','df4','df5','df6','df7','df8', 'df9','df10','VelMod2','VelMod3','if5','outTime','outFlagValid','outFlagAlignment','outFlagErrors', 'outLatitude','outLongitude','outH','outVel1','outVel2','ouVel3','outPitch','outRoll','outYawGyro', 'outYaw','outOffsetX','outOffsetY','outOffsetZ','odf4','odf5','odf6','odf7','odf8','odf9','odf10', 'oif2','oif3','oif4','oif5'])\n",
    "  #CNFnames = ['log_vers'0,1'Time',2'FrameType','3FlagValid','4FlagAlignment','5FlagSettings','6Latitude', '7Longitude','8H','9Velocity1','10Velocity2','11Velocity3','12OmX','13OmY','14OmZ','15AccX','16AccY','17AccZ','Pitch', 'Roll','YawGyro','Yaw','Azimuth','VelocityModule','df1','df2','df3','df4','df5','df6','df7','df8', 'df9','df10','VelMod2','VelMod3','if5','outTime','outFlagValid','outFlagAlignment','outFlagErrors', 'outLatitude','outLongitude','outH','outVel1','outVel2','ouVel3','outPitch','outRoll','outYawGyro', 'outYaw','outOffsetX','outOffsetY','outOffsetZ','odf4','odf5','odf6','odf7','odf8','odf9','odf10', 'oif2','oif3','oif4','oif5']\n",
    "  CNF = np.fromfile('topo.xch', sep = '\\s+')\n",
    "  CNFalign = CNF[CNF.FlagAlignment == 1]\n",
    "  CNFalign = CNFalign.loc[:,['Time','OmX','OmY','OmZ','AccX','AccY','AccZ']]\n",
    "  CNFnav = CNF[CNF.FlagAlignment == 0]\n",
    "  CNFnav = CNFnav.loc[:,['Time','OmX','OmY','OmZ','AccX','AccY','AccZ']]\n",
    "  CNF = []\n",
    "  CNFalign['Invariant'] = CNFalign.AccX*CNFalign.OmX +  CNFalign.AccY*CNFalign.OmY +  CNFalign.AccZ*CNFalign.OmZ\n",
    "  CNFalign['g\\''] = (CNFalign.AccX**2 + CNFalign.AccY**2 + CNFalign.AccZ**2)**(0.5)\n",
    "  CNFalign['W_Std500'] = (CNFalign.Invariant.rolling(window = 500, center = False).std()).dropna()"
   ]
  },
  {
   "cell_type": "code",
   "execution_count": 4,
   "metadata": {
    "collapsed": false
   },
   "outputs": [
    {
     "data": {
      "text/html": [
       "<div>\n",
       "<table border=\"1\" class=\"dataframe\">\n",
       "  <thead>\n",
       "    <tr style=\"text-align: right;\">\n",
       "      <th></th>\n",
       "      <th>Time</th>\n",
       "      <th>OmX</th>\n",
       "      <th>OmY</th>\n",
       "      <th>OmZ</th>\n",
       "      <th>AccX</th>\n",
       "      <th>AccY</th>\n",
       "      <th>AccZ</th>\n",
       "      <th>Invariant</th>\n",
       "      <th>g'</th>\n",
       "      <th>W_Std500</th>\n",
       "    </tr>\n",
       "  </thead>\n",
       "  <tbody>\n",
       "    <tr>\n",
       "      <th>count</th>\n",
       "      <td>78537.000000</td>\n",
       "      <td>78537.000000</td>\n",
       "      <td>78537.000000</td>\n",
       "      <td>78537.000000</td>\n",
       "      <td>78537.000000</td>\n",
       "      <td>78537.000000</td>\n",
       "      <td>78537.000000</td>\n",
       "      <td>78537.000000</td>\n",
       "      <td>78537.000000</td>\n",
       "      <td>78038.000000</td>\n",
       "    </tr>\n",
       "    <tr>\n",
       "      <th>mean</th>\n",
       "      <td>1546.403232</td>\n",
       "      <td>-0.000004</td>\n",
       "      <td>-0.000016</td>\n",
       "      <td>-0.000070</td>\n",
       "      <td>0.003484</td>\n",
       "      <td>-7.844464</td>\n",
       "      <td>-5.901965</td>\n",
       "      <td>0.000535</td>\n",
       "      <td>9.816763</td>\n",
       "      <td>0.000450</td>\n",
       "    </tr>\n",
       "    <tr>\n",
       "      <th>std</th>\n",
       "      <td>248.039986</td>\n",
       "      <td>0.000103</td>\n",
       "      <td>0.000049</td>\n",
       "      <td>0.000044</td>\n",
       "      <td>0.002239</td>\n",
       "      <td>0.003562</td>\n",
       "      <td>0.004407</td>\n",
       "      <td>0.000497</td>\n",
       "      <td>0.003656</td>\n",
       "      <td>0.000205</td>\n",
       "    </tr>\n",
       "    <tr>\n",
       "      <th>min</th>\n",
       "      <td>1116.194656</td>\n",
       "      <td>-0.002213</td>\n",
       "      <td>-0.000667</td>\n",
       "      <td>-0.000578</td>\n",
       "      <td>-0.055608</td>\n",
       "      <td>-7.945049</td>\n",
       "      <td>-5.984624</td>\n",
       "      <td>-0.006443</td>\n",
       "      <td>9.718863</td>\n",
       "      <td>0.000258</td>\n",
       "    </tr>\n",
       "    <tr>\n",
       "      <th>25%</th>\n",
       "      <td>1332.112113</td>\n",
       "      <td>-0.000033</td>\n",
       "      <td>-0.000041</td>\n",
       "      <td>-0.000093</td>\n",
       "      <td>0.002291</td>\n",
       "      <td>-7.845686</td>\n",
       "      <td>-5.903143</td>\n",
       "      <td>0.000286</td>\n",
       "      <td>9.815697</td>\n",
       "      <td>0.000304</td>\n",
       "    </tr>\n",
       "    <tr>\n",
       "      <th>50%</th>\n",
       "      <td>1546.356977</td>\n",
       "      <td>-0.000004</td>\n",
       "      <td>-0.000015</td>\n",
       "      <td>-0.000070</td>\n",
       "      <td>0.003416</td>\n",
       "      <td>-7.844524</td>\n",
       "      <td>-5.901923</td>\n",
       "      <td>0.000537</td>\n",
       "      <td>9.816793</td>\n",
       "      <td>0.000369</td>\n",
       "    </tr>\n",
       "    <tr>\n",
       "      <th>75%</th>\n",
       "      <td>1761.329656</td>\n",
       "      <td>0.000025</td>\n",
       "      <td>0.000009</td>\n",
       "      <td>-0.000047</td>\n",
       "      <td>0.004607</td>\n",
       "      <td>-7.843335</td>\n",
       "      <td>-5.900732</td>\n",
       "      <td>0.000785</td>\n",
       "      <td>9.817871</td>\n",
       "      <td>0.000513</td>\n",
       "    </tr>\n",
       "    <tr>\n",
       "      <th>max</th>\n",
       "      <td>1975.583582</td>\n",
       "      <td>0.002110</td>\n",
       "      <td>0.000651</td>\n",
       "      <td>0.000481</td>\n",
       "      <td>0.047235</td>\n",
       "      <td>-7.773900</td>\n",
       "      <td>-5.804343</td>\n",
       "      <td>0.006609</td>\n",
       "      <td>9.884896</td>\n",
       "      <td>0.001532</td>\n",
       "    </tr>\n",
       "  </tbody>\n",
       "</table>\n",
       "</div>"
      ],
      "text/plain": [
       "               Time           OmX           OmY           OmZ          AccX  \\\n",
       "count  78537.000000  78537.000000  78537.000000  78537.000000  78537.000000   \n",
       "mean    1546.403232     -0.000004     -0.000016     -0.000070      0.003484   \n",
       "std      248.039986      0.000103      0.000049      0.000044      0.002239   \n",
       "min     1116.194656     -0.002213     -0.000667     -0.000578     -0.055608   \n",
       "25%     1332.112113     -0.000033     -0.000041     -0.000093      0.002291   \n",
       "50%     1546.356977     -0.000004     -0.000015     -0.000070      0.003416   \n",
       "75%     1761.329656      0.000025      0.000009     -0.000047      0.004607   \n",
       "max     1975.583582      0.002110      0.000651      0.000481      0.047235   \n",
       "\n",
       "               AccY          AccZ     Invariant            g'      W_Std500  \n",
       "count  78537.000000  78537.000000  78537.000000  78537.000000  78038.000000  \n",
       "mean      -7.844464     -5.901965      0.000535      9.816763      0.000450  \n",
       "std        0.003562      0.004407      0.000497      0.003656      0.000205  \n",
       "min       -7.945049     -5.984624     -0.006443      9.718863      0.000258  \n",
       "25%       -7.845686     -5.903143      0.000286      9.815697      0.000304  \n",
       "50%       -7.844524     -5.901923      0.000537      9.816793      0.000369  \n",
       "75%       -7.843335     -5.900732      0.000785      9.817871      0.000513  \n",
       "max       -7.773900     -5.804343      0.006609      9.884896      0.001532  "
      ]
     },
     "execution_count": 4,
     "metadata": {},
     "output_type": "execute_result"
    }
   ],
   "source": [
    "CNFparser()\n",
    "\n",
    "\n",
    "CNFalign.describe()"
   ]
  },
  {
   "cell_type": "code",
   "execution_count": 6,
   "metadata": {
    "collapsed": false
   },
   "outputs": [
    {
     "data": {
      "text/html": [
       "<div>\n",
       "<table border=\"1\" class=\"dataframe\">\n",
       "  <thead>\n",
       "    <tr style=\"text-align: right;\">\n",
       "      <th></th>\n",
       "      <th>Time</th>\n",
       "      <th>OmX</th>\n",
       "      <th>OmY</th>\n",
       "      <th>OmZ</th>\n",
       "      <th>AccX</th>\n",
       "      <th>AccY</th>\n",
       "      <th>AccZ</th>\n",
       "      <th>Invariant</th>\n",
       "      <th>g'</th>\n",
       "      <th>W_Std500</th>\n",
       "    </tr>\n",
       "  </thead>\n",
       "  <tbody>\n",
       "    <tr>\n",
       "      <th>count</th>\n",
       "      <td>50005.000000</td>\n",
       "      <td>50005.000000</td>\n",
       "      <td>50005.000000</td>\n",
       "      <td>50005.000000</td>\n",
       "      <td>50005.000000</td>\n",
       "      <td>50005.000000</td>\n",
       "      <td>50005.000000</td>\n",
       "      <td>50005.000000</td>\n",
       "      <td>50005.000000</td>\n",
       "      <td>49506.000000</td>\n",
       "    </tr>\n",
       "    <tr>\n",
       "      <th>mean</th>\n",
       "      <td>1390.355208</td>\n",
       "      <td>-0.000004</td>\n",
       "      <td>-0.000016</td>\n",
       "      <td>-0.000070</td>\n",
       "      <td>0.004051</td>\n",
       "      <td>-7.844246</td>\n",
       "      <td>-5.902103</td>\n",
       "      <td>0.000535</td>\n",
       "      <td>9.816672</td>\n",
       "      <td>0.000482</td>\n",
       "    </tr>\n",
       "    <tr>\n",
       "      <th>std</th>\n",
       "      <td>158.070793</td>\n",
       "      <td>0.000072</td>\n",
       "      <td>0.000053</td>\n",
       "      <td>0.000049</td>\n",
       "      <td>0.002198</td>\n",
       "      <td>0.003593</td>\n",
       "      <td>0.003654</td>\n",
       "      <td>0.000542</td>\n",
       "      <td>0.003613</td>\n",
       "      <td>0.000239</td>\n",
       "    </tr>\n",
       "    <tr>\n",
       "      <th>min</th>\n",
       "      <td>1116.194656</td>\n",
       "      <td>-0.001391</td>\n",
       "      <td>-0.000667</td>\n",
       "      <td>-0.000578</td>\n",
       "      <td>-0.055608</td>\n",
       "      <td>-7.945049</td>\n",
       "      <td>-5.963938</td>\n",
       "      <td>-0.006443</td>\n",
       "      <td>9.718863</td>\n",
       "      <td>0.000258</td>\n",
       "    </tr>\n",
       "    <tr>\n",
       "      <th>25%</th>\n",
       "      <td>1253.317121</td>\n",
       "      <td>-0.000032</td>\n",
       "      <td>-0.000041</td>\n",
       "      <td>-0.000095</td>\n",
       "      <td>0.002976</td>\n",
       "      <td>-7.845497</td>\n",
       "      <td>-5.903281</td>\n",
       "      <td>0.000275</td>\n",
       "      <td>9.815520</td>\n",
       "      <td>0.000301</td>\n",
       "    </tr>\n",
       "    <tr>\n",
       "      <th>50%</th>\n",
       "      <td>1390.688160</td>\n",
       "      <td>-0.000004</td>\n",
       "      <td>-0.000016</td>\n",
       "      <td>-0.000070</td>\n",
       "      <td>0.003986</td>\n",
       "      <td>-7.844308</td>\n",
       "      <td>-5.902062</td>\n",
       "      <td>0.000536</td>\n",
       "      <td>9.816702</td>\n",
       "      <td>0.000375</td>\n",
       "    </tr>\n",
       "    <tr>\n",
       "      <th>75%</th>\n",
       "      <td>1527.097273</td>\n",
       "      <td>0.000024</td>\n",
       "      <td>0.000010</td>\n",
       "      <td>-0.000045</td>\n",
       "      <td>0.005060</td>\n",
       "      <td>-7.843065</td>\n",
       "      <td>-5.900870</td>\n",
       "      <td>0.000795</td>\n",
       "      <td>9.817876</td>\n",
       "      <td>0.000585</td>\n",
       "    </tr>\n",
       "    <tr>\n",
       "      <th>max</th>\n",
       "      <td>1663.990676</td>\n",
       "      <td>0.002110</td>\n",
       "      <td>0.000651</td>\n",
       "      <td>0.000481</td>\n",
       "      <td>0.047235</td>\n",
       "      <td>-7.773900</td>\n",
       "      <td>-5.804343</td>\n",
       "      <td>0.006609</td>\n",
       "      <td>9.884896</td>\n",
       "      <td>0.001532</td>\n",
       "    </tr>\n",
       "  </tbody>\n",
       "</table>\n",
       "</div>"
      ],
      "text/plain": [
       "               Time           OmX           OmY           OmZ          AccX  \\\n",
       "count  50005.000000  50005.000000  50005.000000  50005.000000  50005.000000   \n",
       "mean    1390.355208     -0.000004     -0.000016     -0.000070      0.004051   \n",
       "std      158.070793      0.000072      0.000053      0.000049      0.002198   \n",
       "min     1116.194656     -0.001391     -0.000667     -0.000578     -0.055608   \n",
       "25%     1253.317121     -0.000032     -0.000041     -0.000095      0.002976   \n",
       "50%     1390.688160     -0.000004     -0.000016     -0.000070      0.003986   \n",
       "75%     1527.097273      0.000024      0.000010     -0.000045      0.005060   \n",
       "max     1663.990676      0.002110      0.000651      0.000481      0.047235   \n",
       "\n",
       "               AccY          AccZ     Invariant            g'      W_Std500  \n",
       "count  50005.000000  50005.000000  50005.000000  50005.000000  49506.000000  \n",
       "mean      -7.844246     -5.902103      0.000535      9.816672      0.000482  \n",
       "std        0.003593      0.003654      0.000542      0.003613      0.000239  \n",
       "min       -7.945049     -5.963938     -0.006443      9.718863      0.000258  \n",
       "25%       -7.845497     -5.903281      0.000275      9.815520      0.000301  \n",
       "50%       -7.844308     -5.902062      0.000536      9.816702      0.000375  \n",
       "75%       -7.843065     -5.900870      0.000795      9.817876      0.000585  \n",
       "max       -7.773900     -5.804343      0.006609      9.884896      0.001532  "
      ]
     },
     "execution_count": 6,
     "metadata": {},
     "output_type": "execute_result"
    }
   ],
   "source": [
    "CNFalign[CNFalign.Time < 1664].describe()"
   ]
  },
  {
   "cell_type": "code",
   "execution_count": 1,
   "metadata": {
    "collapsed": false,
    "scrolled": false
   },
   "outputs": [
    {
     "ename": "NameError",
     "evalue": "name 'CNFalign' is not defined",
     "output_type": "error",
     "traceback": [
      "\u001b[0;31m---------------------------------------------------------------------------\u001b[0m",
      "\u001b[0;31mNameError\u001b[0m                                 Traceback (most recent call last)",
      "\u001b[0;32m<ipython-input-1-42aff14a84e7>\u001b[0m in \u001b[0;36m<module>\u001b[0;34m()\u001b[0m\n\u001b[0;32m----> 1\u001b[0;31m \u001b[0mCNFalign\u001b[0m\u001b[0;34m[\u001b[0m\u001b[0;34m:\u001b[0m\u001b[0;34m,\u001b[0m\u001b[0;34m[\u001b[0m\u001b[0;36m1\u001b[0m\u001b[0;34m]\u001b[0m\u001b[0;34m]\u001b[0m\u001b[0;34m\u001b[0m\u001b[0m\n\u001b[0m",
      "\u001b[0;31mNameError\u001b[0m: name 'CNFalign' is not defined"
     ]
    }
   ],
   "source": [
    "CNFalign[:,[1]]"
   ]
  },
  {
   "cell_type": "code",
   "execution_count": 45,
   "metadata": {
    "collapsed": false
   },
   "outputs": [
    {
     "data": {
      "text/plain": [
       "-3.8568998349516605e-06"
      ]
     },
     "execution_count": 45,
     "metadata": {},
     "output_type": "execute_result"
    }
   ],
   "source": [
    "CNFalign.mean(axis = 0, dtype=np.float64)[1]"
   ]
  },
  {
   "cell_type": "code",
   "execution_count": 18,
   "metadata": {
    "collapsed": false
   },
   "outputs": [
    {
     "ename": "AttributeError",
     "evalue": "'numpy.ndarray' object has no attribute 'FlagAlignment'",
     "output_type": "error",
     "traceback": [
      "\u001b[0;31m---------------------------------------------------------------------------\u001b[0m",
      "\u001b[0;31mAttributeError\u001b[0m                            Traceback (most recent call last)",
      "\u001b[0;32m<ipython-input-18-aead7da0a313>\u001b[0m in \u001b[0;36m<module>\u001b[0;34m()\u001b[0m\n\u001b[0;32m----> 1\u001b[0;31m \u001b[0mCNFparserarray\u001b[0m\u001b[0;34m(\u001b[0m\u001b[0;34m)\u001b[0m\u001b[0;34m\u001b[0m\u001b[0m\n\u001b[0m",
      "\u001b[0;32m<ipython-input-16-cf38fc9553e1>\u001b[0m in \u001b[0;36mCNFparserarray\u001b[0;34m()\u001b[0m\n\u001b[1;32m      5\u001b[0m   \u001b[0;31m#CNFnames = ['log_vers','Time','FrameType','FlagValid','FlagAlignment','FlagSettings','Latitude', 'Longitude','H','Velocity1','Velocity2','Velocity3','OmX','OmY','OmZ','AccX','AccY','AccZ','Pitch', 'Roll','YawGyro','Yaw','Azimuth','VelocityModule','df1','df2','df3','df4','df5','df6','df7','df8', 'df9','df10','VelMod2','VelMod3','if5','outTime','outFlagValid','outFlagAlignment','outFlagErrors', 'outLatitude','outLongitude','outH','outVel1','outVel2','ouVel3','outPitch','outRoll','outYawGyro', 'outYaw','outOffsetX','outOffsetY','outOffsetZ','odf4','odf5','odf6','odf7','odf8','odf9','odf10', 'oif2','oif3','oif4','oif5']\u001b[0m\u001b[0;34m\u001b[0m\u001b[0;34m\u001b[0m\u001b[0m\n\u001b[1;32m      6\u001b[0m   \u001b[0mCNF\u001b[0m \u001b[0;34m=\u001b[0m \u001b[0mnp\u001b[0m\u001b[0;34m.\u001b[0m\u001b[0mfromfile\u001b[0m\u001b[0;34m(\u001b[0m\u001b[0;34m'topo.xch'\u001b[0m\u001b[0;34m,\u001b[0m \u001b[0msep\u001b[0m \u001b[0;34m=\u001b[0m \u001b[0;34m'\\s+'\u001b[0m\u001b[0;34m)\u001b[0m\u001b[0;34m\u001b[0m\u001b[0m\n\u001b[0;32m----> 7\u001b[0;31m   \u001b[0mCNFalign\u001b[0m \u001b[0;34m=\u001b[0m \u001b[0mCNF\u001b[0m\u001b[0;34m[\u001b[0m\u001b[0mCNF\u001b[0m\u001b[0;34m.\u001b[0m\u001b[0mFlagAlignment\u001b[0m \u001b[0;34m==\u001b[0m \u001b[0;36m1\u001b[0m\u001b[0;34m]\u001b[0m\u001b[0;34m\u001b[0m\u001b[0m\n\u001b[0m\u001b[1;32m      8\u001b[0m   \u001b[0mCNFalign\u001b[0m \u001b[0;34m=\u001b[0m \u001b[0mCNFalign\u001b[0m\u001b[0;34m.\u001b[0m\u001b[0mloc\u001b[0m\u001b[0;34m[\u001b[0m\u001b[0;34m:\u001b[0m\u001b[0;34m,\u001b[0m\u001b[0;34m[\u001b[0m\u001b[0;34m'Time'\u001b[0m\u001b[0;34m,\u001b[0m\u001b[0;34m'OmX'\u001b[0m\u001b[0;34m,\u001b[0m\u001b[0;34m'OmY'\u001b[0m\u001b[0;34m,\u001b[0m\u001b[0;34m'OmZ'\u001b[0m\u001b[0;34m,\u001b[0m\u001b[0;34m'AccX'\u001b[0m\u001b[0;34m,\u001b[0m\u001b[0;34m'AccY'\u001b[0m\u001b[0;34m,\u001b[0m\u001b[0;34m'AccZ'\u001b[0m\u001b[0;34m]\u001b[0m\u001b[0;34m]\u001b[0m\u001b[0;34m\u001b[0m\u001b[0m\n\u001b[1;32m      9\u001b[0m   \u001b[0mCNFnav\u001b[0m \u001b[0;34m=\u001b[0m \u001b[0mCNF\u001b[0m\u001b[0;34m[\u001b[0m\u001b[0mCNF\u001b[0m\u001b[0;34m.\u001b[0m\u001b[0mFlagAlignment\u001b[0m \u001b[0;34m==\u001b[0m \u001b[0;36m0\u001b[0m\u001b[0;34m]\u001b[0m\u001b[0;34m\u001b[0m\u001b[0m\n",
      "\u001b[0;31mAttributeError\u001b[0m: 'numpy.ndarray' object has no attribute 'FlagAlignment'"
     ]
    }
   ],
   "source": [
    "CNFparserarray()"
   ]
  },
  {
   "cell_type": "markdown",
   "metadata": {},
   "source": [
    "Функция начальной алгебраической выставки"
   ]
  },
  {
   "cell_type": "code",
   "execution_count": 4,
   "metadata": {
    "collapsed": true
   },
   "outputs": [],
   "source": [
    "def InitialAlgebraicAlignment():\n",
    "  global g\n",
    "  global L\n",
    "  global CNFalign\n",
    "  global CNFvibrations\n",
    "  global theta, gamma, phi, psi\n",
    "  u = 0.000072921158553\n",
    "  Pi = 3.14159265358979323846\n",
    "  om_x = CNFvibrations.OmX.mean()\n",
    "  om_y = CNFvibrations.OmY.mean()\n",
    "  om_z = CNFvibrations.OmZ.mean()\n",
    "  f_x = CNFvibrations.AccX.mean()\n",
    "  f_y = CNFvibrations.AccY.mean()\n",
    "  f_z = CNFvibrations.AccZ.mean()\n",
    "  theta = math.atan2(f_x, sqrt(f_y*f_y+f_z*f_z))\n",
    "  gamma = -math.atan2(f_z, f_y)\n",
    "  #printf(\"\\ntheta = %.15lf\\ngamma = %.15lf\\n\",theta,gamma)\n",
    "  phi = 49.99453181*math.pi/180\n",
    "  g = 9.78030*(1+0.005302*sin(phi)*sin(phi)-0.000007*sin(2*phi)*sin(2*phi))\n",
    "  om = sqrt(om_x*om_x+om_y*om_y+om_z*om_z)\n",
    "  l13 = sin(theta)\n",
    "  l23 = cos(theta)*cos(gamma)\n",
    "  l33 = -cos(theta)*sin(gamma)\n",
    "  l12 = (om_x - u*l13*sin(phi))/(u*cos(phi))\n",
    "  l22 = (om_y - u*l23*sin(phi))/(u*cos(phi))\n",
    "  l32 = (om_z - u*l33*sin(phi))/(u*cos(phi))\n",
    "  l12 = l12/(sqrt(l12*l12+l22*l22+l32*l32)) #нормировка\n",
    "  l22 = l22/(sqrt(l12*l12+l22*l22+l32*l32))\n",
    "  l32 = l32/(sqrt(l12*l12+l22*l22+l32*l32))\n",
    "  #printf(\"Второй столбец с нормировкой\\n      %.5lf\\nl2 =  %.5lf\\n      %.5lf\\n \\n\",l12,l22,l32)\n",
    "  #теперь нужно векторно умножить второй на третий\n",
    "  l11 = l22*l33 - l32*l23\n",
    "  l21 =-l12*l33 + l13*l32\n",
    "  l31 = l12*l23 - l22*l13\n",
    "  L = np.matrix([[l11, l12, l13], [l21, l22, l23], [l31, l32, l33]])\n",
    "  psi = math.atan2(L.item(0,0),L.item(0,1))\n",
    "  theta = math.asin(L.item(0,2))\n",
    "  gamma = -math.atan2(L.item(2,2),L.item(1,2))"
   ]
  },
  {
   "cell_type": "markdown",
   "metadata": {},
   "source": [
    "Функция поиска интервала наименьшего вибационного воздействия (тупенькая)"
   ]
  },
  {
   "cell_type": "code",
   "execution_count": 5,
   "metadata": {
    "collapsed": true
   },
   "outputs": [],
   "source": [
    "def SearchMinimalVibrations():\n",
    "  global CNFalign\n",
    "  global CNFvibrations\n",
    "  level = 5e-7\n",
    "  CNFvibrations = pd.DataFrame(columns = CNFalign.columns)\n",
    "  while (CNFvibrations.Time.count() < 1000) : #время - 10 секунд\n",
    "    CNFvibrations = pd.DataFrame(columns = CNFalign.columns)\n",
    "    for i, mean in enumerate(CNFalign.W_Std500):\n",
    "      if mean < level:\n",
    "        CNFvibrations = CNFvibrations.append(CNFalign.loc[i:i,])  \n",
    "    level = level*5.0\n",
    "  plt.plot(CNFvibrations.Time, CNFvibrations.Invariant, linestyle = 'None', marker = '+')\n",
    "  plt.xlabel('Time, s')\n",
    "  plt.ylabel('(g,U), m/s/s/s')\n",
    "  plt.title('Minimal Vibrations Interval')\n",
    "  #plt.legend()\n",
    "  plt.show()\n",
    "  CNFvibrations = CNFvibrations.values\n",
    "  # TODO ищем не просто объединение интервалов, а непрерывный интервал длиной х секунд (пусть 10)\n",
    "# TODO метод append это bottleneck моего цикла. Надо переписать. Либо сохранять номера внутри ndarray и вызвать .append от .loc в конце итерации, будет сильно быстрее"
   ]
  },
  {
   "cell_type": "markdown",
   "metadata": {},
   "source": [
    "Пара функций для фильтра Калмана: пусть будут"
   ]
  },
  {
   "cell_type": "code",
   "execution_count": 8,
   "metadata": {
    "collapsed": false
   },
   "outputs": [],
   "source": [
    "def ContinousToDiscrete(A, dt):\n",
    "  expm(A*dt)"
   ]
  },
  {
   "cell_type": "markdown",
   "metadata": {},
   "source": [
    "На самом деле Finally, there are numerical techniques to find  FF . As filters get larger finding analytical solutions becomes very tedious (though packages like SymPy make it easier). C. F. van Loan [2] has developed a technique that finds both  ΦΦ  and  QQ  numerically. Given the continuous model\n",
    "x˙=Ax+Gw\n",
    "x˙=Ax+Gw\n",
    " \n",
    "where  ww  is the unity white noise, van Loan's method computes both  FkFk  and  QkQk .\n",
    "I have implemented van Loan's method in FilterPy. You may use it as follows:\n",
    "from filterpy.common import van_loan_discretization\n",
    "\n",
    "A = np.array([[0., 1.], [-1., 0.]])\n",
    "G = np.array([[0.], [2.]]) # white noise scaling\n",
    "F, Q = van_loan_discretization(A, G, dt=0.1)\n",
    "In the section Numeric Integration of Differential Equations I present alternative methods which are very commonly used in Kalman filtering."
   ]
  },
  {
   "cell_type": "code",
   "execution_count": 12,
   "metadata": {
    "collapsed": false
   },
   "outputs": [
    {
     "name": "stdout",
     "output_type": "stream",
     "text": [
      "[[ 0.995  0.1  ]\n",
      " [-0.1    0.995]]\n",
      "[[ 0.001  0.02 ]\n",
      " [ 0.02   0.399]]\n"
     ]
    }
   ],
   "source": [
    "from filterpy.common import van_loan_discretization\n",
    "\n",
    "A = np.array([[0., 1.], [-1., 0.]])\n",
    "G = np.array([[0.], [2.]]) # white noise scaling\n",
    "F, Q = van_loan_discretization(A, G, dt=0.1)\n",
    "\n",
    "print F\n",
    "print Q"
   ]
  },
  {
   "cell_type": "code",
   "execution_count": null,
   "metadata": {
    "collapsed": true
   },
   "outputs": [],
   "source": [
    "def StateTransitionMatrixUpdate(i):\n",
    "  global A\n",
    "  global CNFalign\n",
    "  A[0,1] = CNFalign.OmZ.values[i]\n",
    "  A[0,2] = -CNFalign.OmY.values[i]\n",
    "  A[1,0] = -A[0,1]\n",
    "  A[1,2] = CNFalign.OmX.values[i]\n",
    "  A[2,0] = -A[0,2]\n",
    "  A[2,1] = -A[1,2]\n",
    "  A[0,6] = 1\n",
    "  A[1,7] = 1\n",
    "  A[2,8] = 1\n",
    "\n",
    "def MeasurmentMatrixUpdate():\n",
    "  global H\n",
    "  global CNFalign\n",
    "  global theta, gamma\n",
    "  gy1 = -g*sin(theta)\n",
    "  gy2 = -g*cos(theta)*cos(gamma)\n",
    "  gy3 = -g*cos(theta)*sin(gamma)\n",
    "  H[0,1] = gy3\n",
    "  H[0,2] = -gy2\n",
    "  H[0,3] = 1\n",
    "  H[1,0] = -gy3\n",
    "  H[1,2] = gy1\n",
    "  H[1,4] = 1\n",
    "  H[2,0] = gy2\n",
    "  H[2,1] = -gy1\n",
    "  H[2,5] = 1\n",
    "\n",
    "def MeasurmentParser(i):\n",
    "  global z\n",
    "  global KF\n",
    "  f_zx = np.dot((np.diag([1,1,1])+np.matrix([[0, KF.x[2], -KF.x[1]], [-KF.x[2], 0, KF.x[0]],[KF.x[1], -KF.x[0],0]])), np.matrix([[0],[0],[g]]))\n",
    "  f_x0 = np.dot(np.transpose(L),np.matrix([[CNFalign.AccX.values[i]],[CNFalign.AccY.values[i]],[CNFalign.AccZ.values[i]]]))\n",
    "  z = np.array([[f_x0.item(0)],[f_x0.item(1)],[f_x0.item(2)-g]]) #14 страница моего курсача\n",
    "\n",
    "def LUpdate():\n",
    "  global theta, gamma, psi, phi, L, KF\n",
    "  theta = theta - (-KF.x.item(0)*cos(psi) + KF.x.item(1)*sin(psi))\n",
    "  gamma = gamma - (-KF.x.item(0)*sin(psi) + KF.x.item(1)*cos(psi))/cos(theta)\n",
    "  psi = psi - KF.x.item(2) + gamma*sin(theta)\n",
    "  print theta\n",
    "  print gamma\n",
    "  print psi\n",
    "  l11 = sin(psi)*cos(theta)\n",
    "  l21 = cos(psi)*sin(gamma) - sin(psi)*sin(theta)*cos(gamma)\n",
    "  l31 = cos(psi)*cos(gamma) + sin(psi)*sin(theta)*sin(gamma)\n",
    "\n",
    "  l12 = cos(psi)*cos(theta)\n",
    "  l22 = -sin(psi)*sin(gamma) - cos(psi)*sin(theta)*cos(gamma)\n",
    "  l32 = -sin(psi)*cos(gamma) + cos(psi)*sin(theta)*sin(gamma)\n",
    "\n",
    "  l13 = sin(theta)\n",
    "  l23 = cos(theta)*cos(gamma)\n",
    "  l33 = - cos(theta)*sin(gamma)"
   ]
  },
  {
   "cell_type": "markdown",
   "metadata": {},
   "source": [
    "Будем считать это началом осмысленного кода"
   ]
  },
  {
   "cell_type": "code",
   "execution_count": 6,
   "metadata": {
    "collapsed": true
   },
   "outputs": [],
   "source": [
    "CNFparser()"
   ]
  },
  {
   "cell_type": "code",
   "execution_count": 1,
   "metadata": {
    "collapsed": false
   },
   "outputs": [
    {
     "ename": "NameError",
     "evalue": "name 'SearchMinimalVibrations' is not defined",
     "output_type": "error",
     "traceback": [
      "\u001b[0;31m---------------------------------------------------------------------------\u001b[0m",
      "\u001b[0;31mNameError\u001b[0m                                 Traceback (most recent call last)",
      "\u001b[0;32m<ipython-input-1-7d0716fafd29>\u001b[0m in \u001b[0;36m<module>\u001b[0;34m()\u001b[0m\n\u001b[0;32m----> 1\u001b[0;31m \u001b[0mSearchMinimalVibrations\u001b[0m\u001b[0;34m(\u001b[0m\u001b[0;34m)\u001b[0m\u001b[0;34m\u001b[0m\u001b[0m\n\u001b[0m",
      "\u001b[0;31mNameError\u001b[0m: name 'SearchMinimalVibrations' is not defined"
     ]
    }
   ],
   "source": [
    "SearchMinimalVibrations()"
   ]
  },
  {
   "cell_type": "markdown",
   "metadata": {},
   "source": [
    "Попробуем забавную штуку: определим матрицу Q при помощи интеграла. Только мне нужно подставить свою state-space matrix "
   ]
  },
  {
   "cell_type": "code",
   "execution_count": 9,
   "metadata": {
    "collapsed": false
   },
   "outputs": [
    {
     "data": {
      "text/latex": [
       "$$\\left[\\begin{matrix}\\frac{\\Delta{t}^{5}}{20} & \\frac{\\Delta{t}^{4}}{8} & \\frac{\\Delta{t}^{3}}{6}\\\\\\frac{\\Delta{t}^{4}}{8} & \\frac{\\Delta{t}^{3}}{3} & \\frac{\\Delta{t}^{2}}{2}\\\\\\frac{\\Delta{t}^{3}}{6} & \\frac{\\Delta{t}^{2}}{2} & \\Delta{t}\\end{matrix}\\right] \\Phi_s$$"
      ],
      "text/plain": [
       "⎡         5           4           3⎤       \n",
       "⎢\\Delta{t}   \\Delta{t}   \\Delta{t} ⎥       \n",
       "⎢──────────  ──────────  ──────────⎥⋅\\Phi_s\n",
       "⎢    20          8           6     ⎥       \n",
       "⎢                                  ⎥       \n",
       "⎢         4           3           2⎥       \n",
       "⎢\\Delta{t}   \\Delta{t}   \\Delta{t} ⎥       \n",
       "⎢──────────  ──────────  ──────────⎥       \n",
       "⎢    8           3           2     ⎥       \n",
       "⎢                                  ⎥       \n",
       "⎢         3           2            ⎥       \n",
       "⎢\\Delta{t}   \\Delta{t}             ⎥       \n",
       "⎢──────────  ──────────  \\Delta{t} ⎥       \n",
       "⎣    6           2                 ⎦       "
      ]
     },
     "execution_count": 9,
     "metadata": {},
     "output_type": "execute_result"
    }
   ],
   "source": [
    "import sympy\n",
    "from sympy import (init_printing, Matrix,MatMul, \n",
    "                   integrate, symbols)\n",
    "\n",
    "init_printing(use_latex='mathjax')\n",
    "dt, phi = symbols('\\Delta{t} \\Phi_s')\n",
    "F_k = Matrix([[1, dt, dt**2/2],\n",
    "              [0,  1,      dt],\n",
    "              [0,  0,       1]])\n",
    "Q_c = Matrix([[0, 0, 0],\n",
    "              [0, 0, 0],\n",
    "              [0, 0, 1]])*phi\n",
    "\n",
    "Q=sympy.integrate(F_k * Q_c * F_k.T, (dt, 0, dt))\n",
    "\n",
    "# factor phi out of the matrix to make it more readable\n",
    "Q = Q / phi\n",
    "sympy.MatMul(Q, phi)"
   ]
  },
  {
   "cell_type": "markdown",
   "metadata": {},
   "source": [
    "Интересный факт - встроенная библиотека фильтерПай умеет генерировать матрицы Q, притом делает это безотносительно переходной мтрицы. Выглядит это так:"
   ]
  },
  {
   "cell_type": "code",
   "execution_count": 11,
   "metadata": {
    "collapsed": false
   },
   "outputs": [
    {
     "name": "stdout",
     "output_type": "stream",
     "text": [
      "[[  1.56250000e-08   7.81250000e-07   2.08333333e-05]\n",
      " [  7.81250000e-07   4.16666667e-05   1.25000000e-03]\n",
      " [  2.08333333e-05   1.25000000e-03   5.00000000e-02]]\n"
     ]
    }
   ],
   "source": [
    "np.set_printoptions(precision=8)\n",
    "Q = Q_continuous_white_noise(\n",
    "    dim=3, dt=0.05, spectral_density=1)\n",
    "print(Q)\n",
    "np.set_printoptions(precision=3)"
   ]
  },
  {
   "cell_type": "code",
   "execution_count": 13,
   "metadata": {
    "collapsed": false
   },
   "outputs": [
    {
     "name": "stdout",
     "output_type": "stream",
     "text": [
      "[[  1.56250000e-06   6.25000000e-05   1.25000000e-03]\n",
      " [  6.25000000e-05   2.50000000e-03   5.00000000e-02]\n",
      " [  1.25000000e-03   5.00000000e-02   1.00000000e+00]]\n"
     ]
    }
   ],
   "source": [
    "np.set_printoptions(precision=8)\n",
    "Q = Q_discrete_white_noise(\n",
    "    dim=3, dt=0.05)\n",
    "print(Q)\n",
    "np.set_printoptions(precision=3)"
   ]
  },
  {
   "cell_type": "code",
   "execution_count": 16,
   "metadata": {
    "collapsed": false
   },
   "outputs": [
    {
     "name": "stdout",
     "output_type": "stream",
     "text": [
      "[[  1.56250000e-06   6.25000000e-05   1.25000000e-03]\n",
      " [  6.25000000e-05   2.50000000e-03   5.00000000e-02]\n",
      " [  1.25000000e-03   5.00000000e-02   1.00000000e+00]]\n"
     ]
    },
    {
     "data": {
      "text/plain": [
       "array([[  5.000e-02,   3.287e-07,   6.574e-06],\n",
       "       [  3.287e-07,   5.001e-02,   2.630e-04],\n",
       "       [  6.574e-06,   2.630e-04,   5.526e-02]])"
      ]
     },
     "execution_count": 16,
     "metadata": {},
     "output_type": "execute_result"
    }
   ],
   "source": [
    "np.set_printoptions(precision=8)\n",
    "Q = Q_discrete_white_noise(\n",
    "    dim=3, dt=0.05)\n",
    "print(Q)\n",
    "np.set_printoptions(precision=3)\n",
    "\n",
    "from scipy.linalg import expm\n",
    "\n",
    "dt = 0.1\n",
    "0.05*expm(Q*dt)\n"
   ]
  },
  {
   "cell_type": "markdown",
   "metadata": {},
   "source": [
    "А тут мы расположим остатки распотрошённого калмана:"
   ]
  },
  {
   "cell_type": "code",
   "execution_count": null,
   "metadata": {
    "collapsed": true
   },
   "outputs": [],
   "source": [
    "L = np.zeros((3,3))\n",
    "KF = filterpy.kalman.SquareRootKalmanFilter(9, 3, dim_u=0) #filt.__init__()\n",
    "KF.x = np.array([[0],[0],[0],[6.7e-5],[-5e-3],[-3.9e-3],[8.4e-8],[-9.8e-7],[-9e-7]])\n",
    "KF.P *=1000\n",
    "A = np.zeros((9,9))\n",
    "H = np.zeros((3,9))\n",
    "for i, Measurment in enumerate(CNFalign):\n",
    "  StateTransitionMatrixUpdate(i)\n",
    "  MeasurmentMatrixUpdate()\n",
    "  MeasurmentParser(i)\n",
    "  KF.H = H\n",
    "  KF.F = A\n",
    "  KF.predict()\n",
    "  KF.update(z)\n",
    "  LUpdate()\n",
    "  #print L\n",
    "  print theta\n",
    "  print gamma\n",
    "  print psi"
   ]
  }
 ],
 "metadata": {
  "kernelspec": {
   "display_name": "Python 2",
   "language": "python",
   "name": "python2"
  },
  "language_info": {
   "codemirror_mode": {
    "name": "ipython",
    "version": 2
   },
   "file_extension": ".py",
   "mimetype": "text/x-python",
   "name": "python",
   "nbconvert_exporter": "python",
   "pygments_lexer": "ipython2",
   "version": "2.7.13"
  }
 },
 "nbformat": 4,
 "nbformat_minor": 1
}
