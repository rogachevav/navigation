{
 "cells": [
  {
   "cell_type": "markdown",
   "metadata": {},
   "source": [
    "# Курсовая работа"
   ]
  },
  {
   "cell_type": "markdown",
   "metadata": {},
   "source": [
    "Подключим неоходимое для работы:"
   ]
  },
  {
   "cell_type": "code",
   "execution_count": 6,
   "metadata": {
    "collapsed": false
   },
   "outputs": [],
   "source": [
    "import math\n",
    "from math import *\n",
    "import numpy as np\n",
    "import pandas as pd\n",
    "import matplotlib.pyplot as plt\n",
    "import scipy\n",
    "import filterpy\n",
    "from filterpy.kalman import KalmanFilter\n",
    "from filterpy.common import Q_continuous_white_noise\n",
    "from filterpy.common import Q_discrete_white_noise\n",
    "#import code.book_plots as bp\n",
    "from scipy import stats\n",
    "from filterpy.common import van_loan_discretization\n",
    "from scipy.linalg import expm\n",
    "%matplotlib inline"
   ]
  },
  {
   "cell_type": "markdown",
   "metadata": {},
   "source": [
    "Переведём данные в удобный для работы формат и далее сохраним их в пикл (чтобы можно было быстро работать с этой структурой данных):"
   ]
  },
  {
   "cell_type": "code",
   "execution_count": 15,
   "metadata": {
    "collapsed": true
   },
   "outputs": [],
   "source": [
    "def CNFparser(filename):\n",
    "    '''\n",
    "    Тут мы расписываем парсер\n",
    "    CNFnav - кусок для работы в режиме навигации\n",
    "    CNFalign - кусок для выставки (причём секунд 10-20 из него для алгебраической, остальное на кинематику)\n",
    "    '''\n",
    "    CNFnames = ['Time','AccX','AccY','AccZ','OmX','OmY','OmZ']\n",
    "    CNF = pd.read_table(filename, sep = '\\s+' ,header = None, names = CNFnames)\n",
    "    #CNFalign = CNF[CNF.FlagAlignment == 1]\n",
    "    #CNFalign = CNFalign.loc[:,['Time','OmX','OmY','OmZ','AccX','AccY','AccZ']]\n",
    "    #CNFnav = CNF[CNF.FlagAlignment == 0]\n",
    "    #CNFnav = CNFnav.loc[:,['Time','OmX','OmY','OmZ','AccX','AccY','AccZ']]\n",
    "    #CNF = []\n",
    "    CNF['Invariant'] = CNF.AccX*CNF.OmX +  CNF.AccY*CNF.OmY +  CNF.AccZ*CNF.OmZ\n",
    "    CNF['g\\''] = (CNF.AccX**2 + CNF.AccY**2 + CNF.AccZ**2)**(0.5)\n",
    "    CNF['W_Std500'] = (CNF.Invariant.rolling(window = 500, center = False).std()).dropna()\n",
    "    return CNF"
   ]
  },
  {
   "cell_type": "code",
   "execution_count": 16,
   "metadata": {
    "collapsed": false
   },
   "outputs": [],
   "source": [
    "CNF = CNFparser('IMU_coursework.txt')"
   ]
  },
  {
   "cell_type": "code",
   "execution_count": null,
   "metadata": {
    "collapsed": true
   },
   "outputs": [],
   "source": [
    "CNF.to_pickle('IMU_df.pkl')"
   ]
  },
  {
   "cell_type": "code",
   "execution_count": null,
   "metadata": {
    "collapsed": true
   },
   "outputs": [],
   "source": [
    "data = pd.read_pickle('hw1_rogachev.pkl')"
   ]
  },
  {
   "cell_type": "code",
   "execution_count": 29,
   "metadata": {
    "collapsed": false
   },
   "outputs": [
    {
     "data": {
      "text/plain": [
       "[<matplotlib.lines.Line2D at 0x7f5381d84450>]"
      ]
     },
     "execution_count": 29,
     "metadata": {},
     "output_type": "execute_result"
    },
    {
     "data": {
      "image/png": "[encoded data removed]",
      "text/plain": [
       "<matplotlib.figure.Figure at 0x7f5381e17390>"
      ]
     },
     "metadata": {},
     "output_type": "display_data"
    }
   ],
   "source": [
    "plt.plot(CNF.AccY.rolling(window = 100, center = False).std())"
   ]
  },
  {
   "cell_type": "markdown",
   "metadata": {},
   "source": [
    "Определим функции для определения параметров:"
   ]
  },
  {
   "cell_type": "code",
   "execution_count": 5,
   "metadata": {
    "collapsed": false
   },
   "outputs": [],
   "source": [
    "def g_phi(phi, h, a, e2):\n",
    "    g = 9.78030 * (1 - 2 * h / a + 3 * e2 * sin(phi) ** 2 / 4);\n",
    "    return g"
   ]
  }
 ],
 "metadata": {
  "kernelspec": {
   "display_name": "Python 2",
   "language": "python",
   "name": "python2"
  },
  "language_info": {
   "codemirror_mode": {
    "name": "ipython",
    "version": 2
   },
   "file_extension": ".py",
   "mimetype": "text/x-python",
   "name": "python",
   "nbconvert_exporter": "python",
   "pygments_lexer": "ipython2",
   "version": "2.7.13"
  }
 },
 "nbformat": 4,
 "nbformat_minor": 1
}
